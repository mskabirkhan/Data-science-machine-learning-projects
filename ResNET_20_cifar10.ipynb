{
  "nbformat": 4,
  "nbformat_minor": 0,
  "metadata": {
    "colab": {
      "name": "ResNET_20_cifar10.ipynb",
      "provenance": []
    },
    "kernelspec": {
      "name": "python3",
      "display_name": "Python 3"
    },
    "accelerator": "GPU"
  },
  "cells": [
    {
      "cell_type": "code",
      "metadata": {
        "id": "A18ORfROX1gI",
        "colab_type": "code",
        "colab": {
          "base_uri": "https://localhost:8080/",
          "height": 34
        },
        "outputId": "7be308a7-063c-4549-91c7-7bed3d22a1c1"
      },
      "source": [
        "%tensorflow_version 1.x"
      ],
      "execution_count": 1,
      "outputs": [
        {
          "output_type": "stream",
          "text": [
            "TensorFlow 1.x selected.\n"
          ],
          "name": "stdout"
        }
      ]
    },
    {
      "cell_type": "code",
      "metadata": {
        "id": "6ZOp6FXcJd__",
        "colab_type": "code",
        "colab": {
          "base_uri": "https://localhost:8080/",
          "height": 34
        },
        "outputId": "74dfe750-d8a7-465a-c5bc-0d6b550d6027"
      },
      "source": [
        "import tensorflow as tf\n",
        "from tensorflow.python import keras\n",
        "import numpy \n",
        "from tensorflow.keras.models import Sequential\n",
        "from tensorflow.keras.layers import Conv2D, MaxPool2D\n",
        "from tensorflow.keras.layers import Activation, Flatten, Dense, Dropout, Input, BatchNormalization\n",
        "from tensorflow.keras.layers import Add, Dense, Activation, ZeroPadding2D, BatchNormalization, Flatten, Conv2D, AveragePooling2D, MaxPooling2D\n",
        "from tensorflow.keras.utils import plot_model\n",
        "from tensorflow.keras import backend as K\n",
        "from tensorflow.keras.models import load_model, Model\n",
        "from tensorflow.keras.datasets import cifar10\n",
        "from tensorflow.python.keras.utils import np_utils\n",
        "import matplotlib.pyplot as plt\n",
        "\n",
        "from keras.regularizers import l2\n",
        "#from keras.callbacks import LearningRateScheduler"
      ],
      "execution_count": 2,
      "outputs": [
        {
          "output_type": "stream",
          "text": [
            "Using TensorFlow backend.\n"
          ],
          "name": "stderr"
        }
      ]
    },
    {
      "cell_type": "code",
      "metadata": {
        "id": "6ErIvO8PJmuq",
        "colab_type": "code",
        "outputId": "2435064f-bb69-4eea-ff0e-c488c4491d7b",
        "colab": {
          "base_uri": "https://localhost:8080/",
          "height": 87
        }
      },
      "source": [
        "#fix random seed for reproducibility\n",
        "seed= 1234\n",
        "numpy.random.seed(seed)\n",
        "\n",
        "# load minit data\n",
        "(X_train, y_train),(X_test, y_test) = cifar10.load_data()\n",
        "\n",
        "\n",
        "X_train = X_train.astype('float32')\n",
        "X_test = X_test.astype('float32')\n",
        "'''\n",
        "rescaled the image data below so that each pixel lies in the interval [0, 1] instead of [0, 255].\n",
        "'''\n",
        "# Normalization\n",
        "X_train /= 255.0\n",
        "X_test /= 255.0\n",
        "#print(X_train[0])\n",
        "\n",
        "'''\n",
        "encode the labels i.e. Y_train and Y_test. \n",
        "In one-hot encoding an integer is converted to an array which contains only \n",
        "one ‘1’ and the rest elements are ‘0’.\n",
        "'''\n",
        "# one-hot\n",
        "y_train = np_utils.to_categorical(y_train)\n",
        "y_test = np_utils.to_categorical(y_test)\n",
        "print('Shape of y-train(One-hot)', y_train.shape)\n",
        "print('Shape of y-test(One-hot)',y_test.shape)"
      ],
      "execution_count": 3,
      "outputs": [
        {
          "output_type": "stream",
          "text": [
            "Downloading data from https://www.cs.toronto.edu/~kriz/cifar-10-python.tar.gz\n",
            "170500096/170498071 [==============================] - 6s 0us/step\n",
            "Shape of y-train(One-hot) (50000, 10)\n",
            "Shape of y-test(One-hot) (10000, 10)\n"
          ],
          "name": "stdout"
        }
      ]
    },
    {
      "cell_type": "code",
      "metadata": {
        "id": "GOg6-TpQJ1IM",
        "colab_type": "code",
        "colab": {}
      },
      "source": [
        "# ResNet-20\n",
        "depth = 20\n",
        "\n",
        "# Number of Classes\n",
        "num_classes = 10\n",
        "\n",
        "def resnet_layer(inputs, num_filters=14, kernel_size=3, strides=1, activation='relu', batch_normalization=True, conv_first=True):\n",
        "    \"\"\"\n",
        "    2D convolution batch-normalization-activation stack builder\n",
        "    Arguments\n",
        "        inputs: input tensor from input image or prev layer\n",
        "        num_filters: conv2D number of filters\n",
        "        kernel_size: conv2D square kernel dimensions\n",
        "        strides: conv2D square stride dimensions\n",
        "        activation: activation name\n",
        "        batch_normalization: to include batch_normalization or not\n",
        "        conv_first: order of convolution\n",
        "    Returns\n",
        "        x: tensor as input to next layer\n",
        "    \"\"\"\n",
        "\n",
        "    conv = Conv2D(num_filters, kernel_size=kernel_size, strides=strides, padding='same', kernel_initializer='he_normal', kernel_regularizer=l2(1e-4))\n",
        "\n",
        "    x = inputs\n",
        "\n",
        "    if conv_first:\n",
        "        x = conv(x)\n",
        "        if batch_normalization:\n",
        "            x = BatchNormalization()(x)\n",
        "        if activation is not None:\n",
        "            x = Activation(activation)(x)\n",
        "    else:\n",
        "        if batch_normalization:\n",
        "            x = BatchNormalization()(x)\n",
        "        if activation is not None:\n",
        "            x = Activation(activation)(x)\n",
        "        x = conv(x)\n",
        "\n",
        "    return x\n",
        "\n",
        "def resnet_model(input_shape, depth, num_classes):\n",
        "    \"\"\"\n",
        "    resnet model builder\n",
        "    Arguments\n",
        "        input_shape: shape of the input image tensor\n",
        "        depth: number of core convolutional layers\n",
        "        num_classes: number of classes\n",
        "    Returns\n",
        "        model: Keras model instance\n",
        "    \"\"\"\n",
        "\n",
        "    num_filters = 14\n",
        "    num_res_blocks = int((depth - 2) / 9)\n",
        "\n",
        "    inputs = Input(shape=input_shape)\n",
        "    x = resnet_layer(inputs=inputs)\n",
        "\n",
        "    # instantiate the stack of residual units\n",
        "    for stack in range(3):\n",
        "        for res_block in range(num_res_blocks):\n",
        "            strides = 1\n",
        "            if stack > 0 and res_block == 0:  # for first layer but not first stack\n",
        "                strides = 2  # downsample\n",
        "            y = resnet_layer(inputs=x,\n",
        "                            num_filters=num_filters,\n",
        "                            strides=strides)\n",
        "            y = resnet_layer(inputs=y,\n",
        "                            num_filters=num_filters,\n",
        "                            activation=None)\n",
        "            if stack > 0 and res_block == 0:  # for first layer but not first stack\n",
        "                # linear projection residual shortcut connection to match changed dims\n",
        "                x = resnet_layer(inputs=x,\n",
        "                                num_filters=num_filters,\n",
        "                                kernel_size=1,\n",
        "                                strides=strides,\n",
        "                                activation=None,\n",
        "                                batch_normalization=False)\n",
        "            x = keras.layers.add([x, y])\n",
        "            x = Activation('relu')(x)\n",
        "        num_filters *= 2\n",
        "        \n",
        "        # add classifier on top\n",
        "    x = AveragePooling2D(pool_size=(2,2))(x)\n",
        "    y = Flatten()(x)\n",
        "    outputs = Dense(num_classes,\n",
        "                    activation='softmax',\n",
        "                    kernel_initializer='he_normal')(y)\n",
        "\n",
        "    # instantiate model\n",
        "    model = Model(inputs=inputs, outputs=outputs)\n",
        "\n",
        "    return model\n"
      ],
      "execution_count": 0,
      "outputs": []
    },
    {
      "cell_type": "code",
      "metadata": {
        "id": "ZqTVyHgDV-Nx",
        "colab_type": "code",
        "outputId": "32bbd0dc-d5d6-4523-b870-588265cf4289",
        "colab": {
          "base_uri": "https://localhost:8080/",
          "height": 1000
        }
      },
      "source": [
        "# input image dimensions\n",
        "input_shape = (32,32,3)\n",
        "\n",
        "model = resnet_model(input_shape=input_shape, depth=depth, num_classes=10)\n",
        "\n",
        "model.summary()\n"
      ],
      "execution_count": 5,
      "outputs": [
        {
          "output_type": "stream",
          "text": [
            "WARNING:tensorflow:From /tensorflow-1.15.2/python3.6/tensorflow_core/python/ops/resource_variable_ops.py:1630: calling BaseResourceVariable.__init__ (from tensorflow.python.ops.resource_variable_ops) with constraint is deprecated and will be removed in a future version.\n",
            "Instructions for updating:\n",
            "If using Keras pass *_constraint arguments to layers.\n",
            "Model: \"model\"\n",
            "__________________________________________________________________________________________________\n",
            "Layer (type)                    Output Shape         Param #     Connected to                     \n",
            "==================================================================================================\n",
            "input_1 (InputLayer)            [(None, 32, 32, 3)]  0                                            \n",
            "__________________________________________________________________________________________________\n",
            "conv2d (Conv2D)                 (None, 32, 32, 14)   392         input_1[0][0]                    \n",
            "__________________________________________________________________________________________________\n",
            "batch_normalization (BatchNorma (None, 32, 32, 14)   56          conv2d[0][0]                     \n",
            "__________________________________________________________________________________________________\n",
            "activation (Activation)         (None, 32, 32, 14)   0           batch_normalization[0][0]        \n",
            "__________________________________________________________________________________________________\n",
            "conv2d_1 (Conv2D)               (None, 32, 32, 14)   1778        activation[0][0]                 \n",
            "__________________________________________________________________________________________________\n",
            "batch_normalization_1 (BatchNor (None, 32, 32, 14)   56          conv2d_1[0][0]                   \n",
            "__________________________________________________________________________________________________\n",
            "activation_1 (Activation)       (None, 32, 32, 14)   0           batch_normalization_1[0][0]      \n",
            "__________________________________________________________________________________________________\n",
            "conv2d_2 (Conv2D)               (None, 32, 32, 14)   1778        activation_1[0][0]               \n",
            "__________________________________________________________________________________________________\n",
            "batch_normalization_2 (BatchNor (None, 32, 32, 14)   56          conv2d_2[0][0]                   \n",
            "__________________________________________________________________________________________________\n",
            "add (Add)                       (None, 32, 32, 14)   0           activation[0][0]                 \n",
            "                                                                 batch_normalization_2[0][0]      \n",
            "__________________________________________________________________________________________________\n",
            "activation_2 (Activation)       (None, 32, 32, 14)   0           add[0][0]                        \n",
            "__________________________________________________________________________________________________\n",
            "conv2d_3 (Conv2D)               (None, 32, 32, 14)   1778        activation_2[0][0]               \n",
            "__________________________________________________________________________________________________\n",
            "batch_normalization_3 (BatchNor (None, 32, 32, 14)   56          conv2d_3[0][0]                   \n",
            "__________________________________________________________________________________________________\n",
            "activation_3 (Activation)       (None, 32, 32, 14)   0           batch_normalization_3[0][0]      \n",
            "__________________________________________________________________________________________________\n",
            "conv2d_4 (Conv2D)               (None, 32, 32, 14)   1778        activation_3[0][0]               \n",
            "__________________________________________________________________________________________________\n",
            "batch_normalization_4 (BatchNor (None, 32, 32, 14)   56          conv2d_4[0][0]                   \n",
            "__________________________________________________________________________________________________\n",
            "add_1 (Add)                     (None, 32, 32, 14)   0           activation_2[0][0]               \n",
            "                                                                 batch_normalization_4[0][0]      \n",
            "__________________________________________________________________________________________________\n",
            "activation_4 (Activation)       (None, 32, 32, 14)   0           add_1[0][0]                      \n",
            "__________________________________________________________________________________________________\n",
            "conv2d_5 (Conv2D)               (None, 16, 16, 28)   3556        activation_4[0][0]               \n",
            "__________________________________________________________________________________________________\n",
            "batch_normalization_5 (BatchNor (None, 16, 16, 28)   112         conv2d_5[0][0]                   \n",
            "__________________________________________________________________________________________________\n",
            "activation_5 (Activation)       (None, 16, 16, 28)   0           batch_normalization_5[0][0]      \n",
            "__________________________________________________________________________________________________\n",
            "conv2d_6 (Conv2D)               (None, 16, 16, 28)   7084        activation_5[0][0]               \n",
            "__________________________________________________________________________________________________\n",
            "conv2d_7 (Conv2D)               (None, 16, 16, 28)   420         activation_4[0][0]               \n",
            "__________________________________________________________________________________________________\n",
            "batch_normalization_6 (BatchNor (None, 16, 16, 28)   112         conv2d_6[0][0]                   \n",
            "__________________________________________________________________________________________________\n",
            "add_2 (Add)                     (None, 16, 16, 28)   0           conv2d_7[0][0]                   \n",
            "                                                                 batch_normalization_6[0][0]      \n",
            "__________________________________________________________________________________________________\n",
            "activation_6 (Activation)       (None, 16, 16, 28)   0           add_2[0][0]                      \n",
            "__________________________________________________________________________________________________\n",
            "conv2d_8 (Conv2D)               (None, 16, 16, 28)   7084        activation_6[0][0]               \n",
            "__________________________________________________________________________________________________\n",
            "batch_normalization_7 (BatchNor (None, 16, 16, 28)   112         conv2d_8[0][0]                   \n",
            "__________________________________________________________________________________________________\n",
            "activation_7 (Activation)       (None, 16, 16, 28)   0           batch_normalization_7[0][0]      \n",
            "__________________________________________________________________________________________________\n",
            "conv2d_9 (Conv2D)               (None, 16, 16, 28)   7084        activation_7[0][0]               \n",
            "__________________________________________________________________________________________________\n",
            "batch_normalization_8 (BatchNor (None, 16, 16, 28)   112         conv2d_9[0][0]                   \n",
            "__________________________________________________________________________________________________\n",
            "add_3 (Add)                     (None, 16, 16, 28)   0           activation_6[0][0]               \n",
            "                                                                 batch_normalization_8[0][0]      \n",
            "__________________________________________________________________________________________________\n",
            "activation_8 (Activation)       (None, 16, 16, 28)   0           add_3[0][0]                      \n",
            "__________________________________________________________________________________________________\n",
            "conv2d_10 (Conv2D)              (None, 8, 8, 56)     14168       activation_8[0][0]               \n",
            "__________________________________________________________________________________________________\n",
            "batch_normalization_9 (BatchNor (None, 8, 8, 56)     224         conv2d_10[0][0]                  \n",
            "__________________________________________________________________________________________________\n",
            "activation_9 (Activation)       (None, 8, 8, 56)     0           batch_normalization_9[0][0]      \n",
            "__________________________________________________________________________________________________\n",
            "conv2d_11 (Conv2D)              (None, 8, 8, 56)     28280       activation_9[0][0]               \n",
            "__________________________________________________________________________________________________\n",
            "conv2d_12 (Conv2D)              (None, 8, 8, 56)     1624        activation_8[0][0]               \n",
            "__________________________________________________________________________________________________\n",
            "batch_normalization_10 (BatchNo (None, 8, 8, 56)     224         conv2d_11[0][0]                  \n",
            "__________________________________________________________________________________________________\n",
            "add_4 (Add)                     (None, 8, 8, 56)     0           conv2d_12[0][0]                  \n",
            "                                                                 batch_normalization_10[0][0]     \n",
            "__________________________________________________________________________________________________\n",
            "activation_10 (Activation)      (None, 8, 8, 56)     0           add_4[0][0]                      \n",
            "__________________________________________________________________________________________________\n",
            "conv2d_13 (Conv2D)              (None, 8, 8, 56)     28280       activation_10[0][0]              \n",
            "__________________________________________________________________________________________________\n",
            "batch_normalization_11 (BatchNo (None, 8, 8, 56)     224         conv2d_13[0][0]                  \n",
            "__________________________________________________________________________________________________\n",
            "activation_11 (Activation)      (None, 8, 8, 56)     0           batch_normalization_11[0][0]     \n",
            "__________________________________________________________________________________________________\n",
            "conv2d_14 (Conv2D)              (None, 8, 8, 56)     28280       activation_11[0][0]              \n",
            "__________________________________________________________________________________________________\n",
            "batch_normalization_12 (BatchNo (None, 8, 8, 56)     224         conv2d_14[0][0]                  \n",
            "__________________________________________________________________________________________________\n",
            "add_5 (Add)                     (None, 8, 8, 56)     0           activation_10[0][0]              \n",
            "                                                                 batch_normalization_12[0][0]     \n",
            "__________________________________________________________________________________________________\n",
            "activation_12 (Activation)      (None, 8, 8, 56)     0           add_5[0][0]                      \n",
            "__________________________________________________________________________________________________\n",
            "average_pooling2d (AveragePooli (None, 4, 4, 56)     0           activation_12[0][0]              \n",
            "__________________________________________________________________________________________________\n",
            "flatten (Flatten)               (None, 896)          0           average_pooling2d[0][0]          \n",
            "__________________________________________________________________________________________________\n",
            "dense (Dense)                   (None, 10)           8970        flatten[0][0]                    \n",
            "==================================================================================================\n",
            "Total params: 143,958\n",
            "Trainable params: 143,146\n",
            "Non-trainable params: 812\n",
            "__________________________________________________________________________________________________\n"
          ],
          "name": "stdout"
        }
      ]
    },
    {
      "cell_type": "code",
      "metadata": {
        "id": "eCF6sxvYWsf1",
        "colab_type": "code",
        "colab": {}
      },
      "source": [
        "#from tensorflow.python.keras.optimizers import Adam\n",
        "from tensorflow.keras import optimizers\n",
        "\n",
        "sgd = optimizers.SGD(lr=0.001, decay=1e-6, momentum=0.9, nesterov=True)\n",
        "\n",
        "model.compile(loss='categorical_crossentropy', optimizer=sgd, metrics=['accuracy']) #"
      ],
      "execution_count": 0,
      "outputs": []
    },
    {
      "cell_type": "code",
      "metadata": {
        "id": "jo7AEjHRX9Bt",
        "colab_type": "code",
        "outputId": "a0cb6697-0cf4-4739-bec3-199ec4b8b5f4",
        "colab": {
          "base_uri": "https://localhost:8080/",
          "height": 587
        }
      },
      "source": [
        "history = model.fit(X_train, y_train, validation_data=(X_test, y_test), epochs=15, batch_size=32, shuffle=True, ) #callbacks=[learn_rate_scheduler]"
      ],
      "execution_count": 7,
      "outputs": [
        {
          "output_type": "stream",
          "text": [
            "Train on 50000 samples, validate on 10000 samples\n",
            "Epoch 1/15\n",
            "50000/50000 [==============================] - 43s 853us/sample - loss: 1.7160 - acc: 0.4228 - val_loss: 1.5060 - val_acc: 0.4930\n",
            "Epoch 2/15\n",
            "50000/50000 [==============================] - 35s 710us/sample - loss: 1.3827 - acc: 0.5400 - val_loss: 1.2983 - val_acc: 0.5707\n",
            "Epoch 3/15\n",
            "50000/50000 [==============================] - 36s 716us/sample - loss: 1.2346 - acc: 0.5957 - val_loss: 1.2346 - val_acc: 0.5953\n",
            "Epoch 4/15\n",
            "50000/50000 [==============================] - 36s 719us/sample - loss: 1.1249 - acc: 0.6379 - val_loss: 1.2048 - val_acc: 0.6060\n",
            "Epoch 5/15\n",
            "50000/50000 [==============================] - 35s 707us/sample - loss: 1.0412 - acc: 0.6678 - val_loss: 1.1828 - val_acc: 0.6249\n",
            "Epoch 6/15\n",
            "50000/50000 [==============================] - 35s 702us/sample - loss: 0.9696 - acc: 0.6942 - val_loss: 1.1068 - val_acc: 0.6488\n",
            "Epoch 7/15\n",
            "50000/50000 [==============================] - 35s 704us/sample - loss: 0.9114 - acc: 0.7143 - val_loss: 1.2142 - val_acc: 0.6220\n",
            "Epoch 8/15\n",
            "50000/50000 [==============================] - 35s 705us/sample - loss: 0.8593 - acc: 0.7311 - val_loss: 1.0630 - val_acc: 0.6608\n",
            "Epoch 9/15\n",
            "50000/50000 [==============================] - 35s 707us/sample - loss: 0.8069 - acc: 0.7518 - val_loss: 1.0355 - val_acc: 0.6799\n",
            "Epoch 10/15\n",
            "50000/50000 [==============================] - 35s 707us/sample - loss: 0.7669 - acc: 0.7649 - val_loss: 1.0215 - val_acc: 0.6834\n",
            "Epoch 11/15\n",
            "50000/50000 [==============================] - 36s 713us/sample - loss: 0.7267 - acc: 0.7802 - val_loss: 1.0725 - val_acc: 0.6728\n",
            "Epoch 12/15\n",
            "50000/50000 [==============================] - 36s 716us/sample - loss: 0.6871 - acc: 0.7945 - val_loss: 1.0463 - val_acc: 0.6745\n",
            "Epoch 13/15\n",
            "50000/50000 [==============================] - 36s 723us/sample - loss: 0.6503 - acc: 0.8081 - val_loss: 1.0815 - val_acc: 0.6738\n",
            "Epoch 14/15\n",
            "50000/50000 [==============================] - 35s 708us/sample - loss: 0.6176 - acc: 0.8189 - val_loss: 1.0622 - val_acc: 0.6859\n",
            "Epoch 15/15\n",
            "50000/50000 [==============================] - 35s 705us/sample - loss: 0.5861 - acc: 0.8305 - val_loss: 1.0090 - val_acc: 0.7009\n"
          ],
          "name": "stdout"
        }
      ]
    },
    {
      "cell_type": "code",
      "metadata": {
        "id": "oXQKLkJZadRx",
        "colab_type": "code",
        "colab": {}
      },
      "source": [
        "score = model.evaluate(X_test, y_test, verbose=0)"
      ],
      "execution_count": 0,
      "outputs": []
    },
    {
      "cell_type": "code",
      "metadata": {
        "id": "fugzTVnKbkdJ",
        "colab_type": "code",
        "outputId": "e06a13f5-55d6-4100-d327-b4436fea1475",
        "colab": {
          "base_uri": "https://localhost:8080/",
          "height": 34
        }
      },
      "source": [
        "print(\"Accuracy on test set: \",score[1])"
      ],
      "execution_count": 9,
      "outputs": [
        {
          "output_type": "stream",
          "text": [
            "Accuracy on test set:  0.7009\n"
          ],
          "name": "stdout"
        }
      ]
    },
    {
      "cell_type": "code",
      "metadata": {
        "id": "WpKHN7rDhY4F",
        "colab_type": "code",
        "outputId": "e265ec27-a05d-44c7-cc2a-ec6a80feca18",
        "colab": {
          "base_uri": "https://localhost:8080/",
          "height": 34
        }
      },
      "source": [
        "model.metrics_names\n"
      ],
      "execution_count": 10,
      "outputs": [
        {
          "output_type": "execute_result",
          "data": {
            "text/plain": [
              "['loss', 'acc']"
            ]
          },
          "metadata": {
            "tags": []
          },
          "execution_count": 10
        }
      ]
    },
    {
      "cell_type": "code",
      "metadata": {
        "id": "y2txowoLboBQ",
        "colab_type": "code",
        "outputId": "b0f72d82-1a39-40b2-b4b8-faa9f5356eb6",
        "colab": {
          "base_uri": "https://localhost:8080/",
          "height": 294
        }
      },
      "source": [
        "plt.plot(history.history['acc'])\n",
        "plt.plot(history.history['val_acc'])\n",
        "plt.title('model accuracy')\n",
        "plt.ylabel('accuracy')\n",
        "plt.xlabel('epoch')\n",
        "plt.legend(['train', 'test'], loc='upper left')\n",
        "plt.show()"
      ],
      "execution_count": 12,
      "outputs": [
        {
          "output_type": "display_data",
          "data": {
            "image/png": "[encoded data removed]",
            "text/plain": [
              "<Figure size 432x288 with 1 Axes>"
            ]
          },
          "metadata": {
            "tags": [],
            "needs_background": "light"
          }
        }
      ]
    },
    {
      "cell_type": "code",
      "metadata": {
        "id": "Se08vO-LhoyM",
        "colab_type": "code",
        "outputId": "331706bf-5f2b-4312-d9e5-880e1b3f3ce1",
        "colab": {
          "base_uri": "https://localhost:8080/",
          "height": 294
        }
      },
      "source": [
        "plt.plot(history.history['loss'])\n",
        "plt.plot(history.history['val_loss'])\n",
        "plt.title('model loss')\n",
        "plt.ylabel('loss')\n",
        "plt.xlabel('epoch')\n",
        "plt.legend(['train', 'test'], loc='upper left')\n",
        "plt.show()"
      ],
      "execution_count": 13,
      "outputs": [
        {
          "output_type": "display_data",
          "data": {
            "image/png": "[encoded data removed]",
            "text/plain": [
              "<Figure size 432x288 with 1 Axes>"
            ]
          },
          "metadata": {
            "tags": [],
            "needs_background": "light"
          }
        }
      ]
    }
  ]
}
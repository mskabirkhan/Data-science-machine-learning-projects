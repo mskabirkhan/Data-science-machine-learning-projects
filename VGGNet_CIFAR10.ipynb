{
  "nbformat": 4,
  "nbformat_minor": 0,
  "metadata": {
    "colab": {
      "name": "VGGNet_CIFAR10",
      "provenance": [],
      "collapsed_sections": [],
      "machine_shape": "hm"
    },
    "kernelspec": {
      "name": "python3",
      "display_name": "Python 3"
    }
  },
  "cells": [
    {
      "cell_type": "code",
      "metadata": {
        "id": "79wpbkq7rEl9",
        "colab_type": "code",
        "colab": {}
      },
      "source": [
        "import tensorflow as tf\n",
        "from tensorflow.python import keras\n",
        "import numpy as np\n",
        "\n",
        "from tensorflow.keras.preprocessing.image import ImageDataGenerator\n",
        "from tensorflow.keras.models import Sequential\n",
        "from tensorflow.keras.layers import Conv2D, MaxPool2D\n",
        "from tensorflow.keras.layers import Activation, Flatten, Dense, Dropout, Input\n",
        "from tensorflow.keras.utils import plot_model\n",
        "\n",
        "from tensorflow.keras import backend as K\n",
        "from tensorflow.keras.models import load_model\n",
        "from tensorflow.keras.datasets import mnist, cifar10\n",
        "from tensorflow.python.keras.utils import np_utils\n",
        "import matplotlib.pyplot as plt"
      ],
      "execution_count": 0,
      "outputs": []
    },
    {
      "cell_type": "code",
      "metadata": {
        "id": "imDX-kqorH_P",
        "colab_type": "code",
        "colab": {}
      },
      "source": [
        "# Loading the CIFAR-10 dataset\n",
        "(x_train, y_train), (x_test, y_test) = cifar10.load_data()\n",
        "x_train = x_train.astype('float32')\n",
        "x_test = x_test.astype('float32')\n",
        "\n",
        "from tensorflow.python.keras.utils import np_utils\n",
        "\n",
        "y_train = np_utils.to_categorical(y_train, 10)\n",
        "y_test = np_utils.to_categorical(y_test, 10)\n"
      ],
      "execution_count": 0,
      "outputs": []
    },
    {
      "cell_type": "code",
      "metadata": {
        "id": "caMaU035r5d7",
        "colab_type": "code",
        "colab": {}
      },
      "source": [
        "#Parameters\n",
        "weight_decay = 0.0005\n",
        "batch_size = 64\n",
        "epochs = 200\n",
        "data_augmentation = True\n",
        "x_shape = [32,32,3]\n",
        "\n",
        "\n",
        "# create model\n",
        "model = Sequential()\n",
        "\n",
        "# first block of conv2D, 64 filters, size of filters (3,3)\n",
        "model.add(Conv2D(64,(3,3), padding='same',activation='relu',input_shape=(x_shape)))\n",
        "model.add(Conv2D(64,(3,3),padding='same',activation='relu'))\n",
        "model.add(MaxPool2D((2,2),padding='same'))\n",
        "\n",
        "# second block of conv2D\n",
        "model.add(Conv2D(128,(3,3),padding='same',activation='relu'))\n",
        "model.add(Conv2D(128,(3,3),padding='same',activation='relu'))\n",
        "model.add(MaxPool2D((2,2),padding= 'same'))\n",
        "\n",
        "# third block of conv2D\n",
        "model.add(Conv2D(256,(3,3),padding='same',activation='relu'))\n",
        "model.add(Conv2D(256,(3,3),padding='same',activation='relu'))\n",
        "model.add(Conv2D(256,(3,3),padding='same',activation='relu'))\n",
        "model.add(MaxPool2D((2,2),padding='same'))\n",
        "\n",
        "# fouth block of conv2D\n",
        "model.add(Conv2D(512,(3,3),padding='same',activation='relu'))\n",
        "model.add(Conv2D(512,(3,3),padding='same',activation='relu'))\n",
        "model.add(Conv2D(512,(3,3),padding='same',activation='relu'))\n",
        "model.add(MaxPool2D((2,2),padding='same'))\n",
        "\n",
        "# fifth block of conv2D\n",
        "model.add(Conv2D(512,(3,3),padding='same',activation='relu'))\n",
        "model.add(Conv2D(512,(3,3),padding='same',activation='relu'))\n",
        "model.add(Conv2D(512,(3,3),padding='same',activation='relu'))\n",
        "model.add(MaxPool2D((2,2),padding='same'))\n",
        "\n",
        "# Dense layer\n",
        "model.add(Flatten())\n",
        "model.add(Dense(4096, activation='relu'))\n",
        "model.add(Dense(4096, activation='relu'))\n",
        "model.add(Dense(10, activation='softmax'))\n",
        "model.summary()\n"
      ],
      "execution_count": 0,
      "outputs": []
    },
    {
      "cell_type": "code",
      "metadata": {
        "id": "BqD5Y0obtQjr",
        "colab_type": "code",
        "colab": {}
      },
      "source": [
        "from tensorflow.keras import optimizers\n",
        "\n",
        "#sgd = optimizers.SGD(lr=0.01, decay=1e-6, momentum=0.9, nesterov=True)\n",
        "sgd = optimizers.SGD(lr=0.005, decay=0, nesterov=True) #0.0005\n",
        "model.compile(loss='categorical_crossentropy', optimizer=sgd, metrics=['accuracy'])"
      ],
      "execution_count": 0,
      "outputs": []
    },
    {
      "cell_type": "code",
      "metadata": {
        "id": "7yYACUpeavlv",
        "colab_type": "code",
        "colab": {}
      },
      "source": [
        "'''\n",
        "Data augmentation rotates, shears, zooms, etc the image so that the model learns to generalize and \n",
        "not remember specific data. If the model overfits, \n",
        "it will perform very well on the images that it already knows but will fail if new images are given to it.\n",
        "'''\n",
        "gen = ImageDataGenerator(rotation_range=8, width_shift_range=0.08, shear_range=0.3,\n",
        "                         height_shift_range=0.08, zoom_range=0.08)\n",
        "\n",
        "test_gen = ImageDataGenerator()"
      ],
      "execution_count": 0,
      "outputs": []
    },
    {
      "cell_type": "code",
      "metadata": {
        "id": "1XOm602FayBi",
        "colab_type": "code",
        "colab": {}
      },
      "source": [
        "'''\n",
        "To use less memory and make model faster we are using 64 images at a time and train them \n",
        "'''\n",
        "train_generator = gen.flow(x_train, y_train, batch_size=64)\n",
        "test_generator = test_gen.flow(x_test, y_test, batch_size=64)"
      ],
      "execution_count": 0,
      "outputs": []
    },
    {
      "cell_type": "code",
      "metadata": {
        "id": "U_nFKnrhKkM9",
        "colab_type": "code",
        "outputId": "3f52fd61-3c9d-4d84-dcf6-232ad6fa6932",
        "colab": {
          "base_uri": "https://localhost:8080/",
          "height": 1000
        }
      },
      "source": [
        "#history = model.fit(x_train, y_train, validation_data=(x_test, y_test), epochs=20, batch_size = 128) # verbose=2\n",
        "history = model.fit_generator(train_generator, steps_per_epoch=60000//64, epochs=50, \n",
        "                    validation_data=test_generator, validation_steps=10000//64)"
      ],
      "execution_count": 0,
      "outputs": [
        {
          "output_type": "stream",
          "text": [
            "Epoch 1/50\n",
            "937/937 [==============================] - 76s 81ms/step - loss: 2.1910 - accuracy: 0.2559 - val_loss: 1.7969 - val_accuracy: 0.3669\n",
            "Epoch 2/50\n",
            "937/937 [==============================] - 75s 81ms/step - loss: 1.5702 - accuracy: 0.4372 - val_loss: 1.4497 - val_accuracy: 0.4810\n",
            "Epoch 3/50\n",
            "937/937 [==============================] - 76s 81ms/step - loss: 1.3077 - accuracy: 0.5393 - val_loss: 1.1664 - val_accuracy: 0.5949\n",
            "Epoch 4/50\n",
            "937/937 [==============================] - 76s 81ms/step - loss: 1.1376 - accuracy: 0.6008 - val_loss: 1.0432 - val_accuracy: 0.6429\n",
            "Epoch 5/50\n",
            "937/937 [==============================] - 75s 80ms/step - loss: 1.0208 - accuracy: 0.6416 - val_loss: 0.9732 - val_accuracy: 0.6583\n",
            "Epoch 6/50\n",
            "937/937 [==============================] - 75s 80ms/step - loss: 0.9138 - accuracy: 0.6821 - val_loss: 0.9023 - val_accuracy: 0.6936\n",
            "Epoch 7/50\n",
            "937/937 [==============================] - 75s 80ms/step - loss: 0.8372 - accuracy: 0.7077 - val_loss: 0.9793 - val_accuracy: 0.6638\n",
            "Epoch 8/50\n",
            "937/937 [==============================] - 75s 80ms/step - loss: 0.7704 - accuracy: 0.7320 - val_loss: 0.8086 - val_accuracy: 0.7304\n",
            "Epoch 9/50\n",
            "937/937 [==============================] - 75s 80ms/step - loss: 0.7134 - accuracy: 0.7524 - val_loss: 0.8160 - val_accuracy: 0.7189\n",
            "Epoch 10/50\n",
            "937/937 [==============================] - 75s 80ms/step - loss: 0.6653 - accuracy: 0.7698 - val_loss: 0.7773 - val_accuracy: 0.7461\n",
            "Epoch 11/50\n",
            "937/937 [==============================] - 75s 80ms/step - loss: 0.6131 - accuracy: 0.7869 - val_loss: 0.7671 - val_accuracy: 0.7512\n",
            "Epoch 12/50\n",
            "937/937 [==============================] - 75s 80ms/step - loss: 0.5712 - accuracy: 0.8009 - val_loss: 0.7971 - val_accuracy: 0.7530\n",
            "Epoch 13/50\n",
            "937/937 [==============================] - 75s 80ms/step - loss: 0.5332 - accuracy: 0.8135 - val_loss: 0.8564 - val_accuracy: 0.7321\n",
            "Epoch 14/50\n",
            "937/937 [==============================] - 75s 80ms/step - loss: 0.5007 - accuracy: 0.8259 - val_loss: 0.9169 - val_accuracy: 0.7298\n",
            "Epoch 15/50\n",
            "937/937 [==============================] - 75s 80ms/step - loss: 0.4617 - accuracy: 0.8374 - val_loss: 0.8463 - val_accuracy: 0.7496\n",
            "Epoch 16/50\n",
            "937/937 [==============================] - 75s 80ms/step - loss: 0.4237 - accuracy: 0.8531 - val_loss: 0.8299 - val_accuracy: 0.7580\n",
            "Epoch 17/50\n",
            "937/937 [==============================] - 75s 80ms/step - loss: 0.3965 - accuracy: 0.8598 - val_loss: 0.7910 - val_accuracy: 0.7628\n",
            "Epoch 18/50\n",
            "937/937 [==============================] - 75s 80ms/step - loss: 0.3683 - accuracy: 0.8715 - val_loss: 0.7770 - val_accuracy: 0.7736\n",
            "Epoch 19/50\n",
            "937/937 [==============================] - 75s 80ms/step - loss: 0.3421 - accuracy: 0.8800 - val_loss: 0.7650 - val_accuracy: 0.7707\n",
            "Epoch 20/50\n",
            "937/937 [==============================] - 75s 80ms/step - loss: 0.3174 - accuracy: 0.8882 - val_loss: 0.8556 - val_accuracy: 0.7685\n",
            "Epoch 21/50\n",
            "937/937 [==============================] - 75s 80ms/step - loss: 0.2943 - accuracy: 0.8962 - val_loss: 0.8310 - val_accuracy: 0.7726\n",
            "Epoch 22/50\n",
            "937/937 [==============================] - 75s 80ms/step - loss: 0.2771 - accuracy: 0.9034 - val_loss: 0.8713 - val_accuracy: 0.7742\n",
            "Epoch 23/50\n",
            "937/937 [==============================] - 75s 80ms/step - loss: 0.2544 - accuracy: 0.9110 - val_loss: 0.8727 - val_accuracy: 0.7715\n",
            "Epoch 24/50\n",
            "937/937 [==============================] - 75s 80ms/step - loss: 0.2405 - accuracy: 0.9158 - val_loss: 0.9141 - val_accuracy: 0.7691\n",
            "Epoch 25/50\n",
            "937/937 [==============================] - 75s 80ms/step - loss: 0.2203 - accuracy: 0.9227 - val_loss: 0.8614 - val_accuracy: 0.7760\n",
            "Epoch 26/50\n",
            "937/937 [==============================] - 75s 80ms/step - loss: 0.2059 - accuracy: 0.9279 - val_loss: 0.8719 - val_accuracy: 0.7876\n",
            "Epoch 27/50\n",
            "937/937 [==============================] - 75s 80ms/step - loss: 0.1900 - accuracy: 0.9331 - val_loss: 0.9624 - val_accuracy: 0.7768\n",
            "Epoch 28/50\n",
            "937/937 [==============================] - 75s 80ms/step - loss: 0.1788 - accuracy: 0.9382 - val_loss: 0.9622 - val_accuracy: 0.7723\n",
            "Epoch 29/50\n",
            "937/937 [==============================] - 75s 80ms/step - loss: 0.1758 - accuracy: 0.9387 - val_loss: 0.8859 - val_accuracy: 0.7799\n",
            "Epoch 30/50\n",
            "937/937 [==============================] - 75s 80ms/step - loss: 0.1645 - accuracy: 0.9414 - val_loss: 0.9267 - val_accuracy: 0.7841\n",
            "Epoch 31/50\n",
            "937/937 [==============================] - 75s 80ms/step - loss: 0.1463 - accuracy: 0.9494 - val_loss: 0.9467 - val_accuracy: 0.7771\n",
            "Epoch 32/50\n",
            "937/937 [==============================] - 75s 80ms/step - loss: 0.1386 - accuracy: 0.9523 - val_loss: 0.9302 - val_accuracy: 0.7902\n",
            "Epoch 33/50\n",
            "937/937 [==============================] - 75s 80ms/step - loss: 0.1330 - accuracy: 0.9537 - val_loss: 1.1187 - val_accuracy: 0.7738\n",
            "Epoch 34/50\n",
            "937/937 [==============================] - 75s 80ms/step - loss: 0.1240 - accuracy: 0.9574 - val_loss: 1.0196 - val_accuracy: 0.7815\n",
            "Epoch 35/50\n",
            "937/937 [==============================] - 75s 80ms/step - loss: 0.1191 - accuracy: 0.9593 - val_loss: 1.0036 - val_accuracy: 0.7892\n",
            "Epoch 36/50\n",
            "937/937 [==============================] - 75s 80ms/step - loss: 0.1148 - accuracy: 0.9611 - val_loss: 1.0363 - val_accuracy: 0.7868\n",
            "Epoch 37/50\n",
            "937/937 [==============================] - 75s 80ms/step - loss: 0.1036 - accuracy: 0.9643 - val_loss: 1.0450 - val_accuracy: 0.7950\n",
            "Epoch 38/50\n",
            "937/937 [==============================] - 75s 80ms/step - loss: 0.1032 - accuracy: 0.9640 - val_loss: 1.0440 - val_accuracy: 0.7876\n",
            "Epoch 39/50\n",
            "937/937 [==============================] - 75s 80ms/step - loss: 0.0992 - accuracy: 0.9657 - val_loss: 1.0802 - val_accuracy: 0.7860\n",
            "Epoch 40/50\n",
            "937/937 [==============================] - 75s 80ms/step - loss: 0.0999 - accuracy: 0.9675 - val_loss: 1.1063 - val_accuracy: 0.7858\n",
            "Epoch 41/50\n",
            "937/937 [==============================] - 75s 80ms/step - loss: 0.0931 - accuracy: 0.9676 - val_loss: 1.0688 - val_accuracy: 0.7953\n",
            "Epoch 42/50\n",
            "937/937 [==============================] - 75s 80ms/step - loss: 0.0895 - accuracy: 0.9695 - val_loss: 1.0853 - val_accuracy: 0.7844\n",
            "Epoch 43/50\n",
            "937/937 [==============================] - 75s 80ms/step - loss: 0.0839 - accuracy: 0.9715 - val_loss: 1.1421 - val_accuracy: 0.7881\n",
            "Epoch 44/50\n",
            "937/937 [==============================] - 75s 80ms/step - loss: 0.0804 - accuracy: 0.9721 - val_loss: 1.0563 - val_accuracy: 0.7954\n",
            "Epoch 45/50\n",
            "937/937 [==============================] - 75s 80ms/step - loss: 0.0761 - accuracy: 0.9738 - val_loss: 1.0711 - val_accuracy: 0.7903\n",
            "Epoch 46/50\n",
            "937/937 [==============================] - 75s 80ms/step - loss: 0.0728 - accuracy: 0.9756 - val_loss: 1.0991 - val_accuracy: 0.7974\n",
            "Epoch 47/50\n",
            "937/937 [==============================] - 75s 80ms/step - loss: 0.0702 - accuracy: 0.9763 - val_loss: 1.1440 - val_accuracy: 0.7938\n",
            "Epoch 48/50\n",
            "937/937 [==============================] - 75s 80ms/step - loss: 0.0688 - accuracy: 0.9768 - val_loss: 1.0727 - val_accuracy: 0.8015\n",
            "Epoch 49/50\n",
            "937/937 [==============================] - 75s 80ms/step - loss: 0.0638 - accuracy: 0.9783 - val_loss: 1.1496 - val_accuracy: 0.7905\n",
            "Epoch 50/50\n",
            "937/937 [==============================] - 75s 80ms/step - loss: 0.0638 - accuracy: 0.9788 - val_loss: 1.0192 - val_accuracy: 0.8034\n"
          ],
          "name": "stdout"
        }
      ]
    },
    {
      "cell_type": "code",
      "metadata": {
        "id": "h8lNWwCidt6b",
        "colab_type": "code",
        "colab": {}
      },
      "source": [
        "score = model.evaluate(x_test, y_test, verbose=0)"
      ],
      "execution_count": 0,
      "outputs": []
    },
    {
      "cell_type": "code",
      "metadata": {
        "id": "EaK1U1LNdyLB",
        "colab_type": "code",
        "outputId": "79172ca2-2da2-4101-b155-3b4456b234c5",
        "colab": {
          "base_uri": "https://localhost:8080/",
          "height": 34
        }
      },
      "source": [
        "print(\"Accuracy on test set: \",score[1])"
      ],
      "execution_count": 0,
      "outputs": [
        {
          "output_type": "stream",
          "text": [
            "Accuracy on test set:  0.8030999898910522\n"
          ],
          "name": "stdout"
        }
      ]
    },
    {
      "cell_type": "code",
      "metadata": {
        "id": "vBloyh4_d0hG",
        "colab_type": "code",
        "outputId": "f5e62007-7b84-46ba-a836-782911a03187",
        "colab": {
          "base_uri": "https://localhost:8080/",
          "height": 294
        }
      },
      "source": [
        "plt.plot(history.history['accuracy'])\n",
        "plt.plot(history.history['val_accuracy'])\n",
        "plt.title('model accuracy')\n",
        "plt.ylabel('accuracy')\n",
        "plt.xlabel('epoch')\n",
        "plt.legend(['train', 'test'], loc='upper left')\n",
        "plt.show()"
      ],
      "execution_count": 0,
      "outputs": [
        {
          "output_type": "display_data",
          "data": {
            "image/png": "[encoded data removed]",
            "text/plain": [
              "<Figure size 432x288 with 1 Axes>"
            ]
          },
          "metadata": {
            "tags": [],
            "needs_background": "light"
          }
        }
      ]
    },
    {
      "cell_type": "code",
      "metadata": {
        "id": "-4dH-nbvd3b3",
        "colab_type": "code",
        "outputId": "71de5de4-3564-45ec-c147-6c3d4246d655",
        "colab": {
          "base_uri": "https://localhost:8080/",
          "height": 294
        }
      },
      "source": [
        "plt.plot(history.history['loss'])\n",
        "plt.plot(history.history['val_loss'])\n",
        "plt.title('model loss')\n",
        "plt.ylabel('loss')\n",
        "plt.xlabel('epoch')\n",
        "plt.legend(['train', 'test'], loc='upper left')\n",
        "plt.show()"
      ],
      "execution_count": 0,
      "outputs": [
        {
          "output_type": "display_data",
          "data": {
            "image/png": "[encoded data removed]",
            "text/plain": [
              "<Figure size 432x288 with 1 Axes>"
            ]
          },
          "metadata": {
            "tags": [],
            "needs_background": "light"
          }
        }
      ]
    }
  ]
}
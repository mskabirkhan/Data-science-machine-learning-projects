{
  "nbformat": 4,
  "nbformat_minor": 0,
  "metadata": {
    "colab": {
      "name": "VGG_mnist_Final.ipynb",
      "provenance": [],
      "collapsed_sections": []
    },
    "kernelspec": {
      "name": "python3",
      "display_name": "Python 3"
    }
  },
  "cells": [
    {
      "cell_type": "code",
      "metadata": {
        "id": "nSnvtb1rgxha",
        "colab_type": "code",
        "outputId": "aebe4593-88ff-4c6d-bf49-f6ae5bb57ca5",
        "colab": {
          "base_uri": "https://localhost:8080/",
          "height": 54
        }
      },
      "source": [
        "import tensorflow as tf\n",
        "from tensorflow.python import keras\n",
        "import numpy as np\n",
        "\n",
        "from tensorflow.keras.preprocessing.image import ImageDataGenerator\n",
        "from tensorflow.keras.models import Sequential\n",
        "from tensorflow.keras.layers import Conv2D, MaxPool2D\n",
        "from tensorflow.keras.layers import Activation, Flatten, Dense, Dropout, Input\n",
        "from tensorflow.keras.utils import plot_model\n",
        "\n",
        "from tensorflow.keras import backend as K\n",
        "from tensorflow.keras.models import load_model\n",
        "from tensorflow.keras.datasets import mnist\n",
        "from tensorflow.python.keras.utils import np_utils\n",
        "import matplotlib.pyplot as plt"
      ],
      "execution_count": 0,
      "outputs": [
        {
          "output_type": "execute_result",
          "data": {
            "text/plain": [
              "'\\nfrom tensorflow.keras.layers.normalization import BatchNormalization\\nimport numpy as np\\nfrom keras.utils import np_utils\\nfrom keras.optimizers import Adam\\nfrom keras.preprocessing.image import ImageDataGenerator\\nfrom keras.models import Sequential\\nfrom keras.layers.convolutional import Conv2D, MaxPooling2D\\nfrom keras.layers.core import Activation, Flatten, Dense\\nfrom keras.utils.vis_utils import plot_model\\n\\nfrom keras.layers import Dropout\\nfrom keras import backend as K\\nfrom keras.models import load_model\\nfrom keras.datasets import mnist\\nfrom keras.utils import np_utils\\nimport matplotlib.pyplot as plt\\n'"
            ]
          },
          "metadata": {
            "tags": []
          },
          "execution_count": 24
        }
      ]
    },
    {
      "cell_type": "code",
      "metadata": {
        "id": "siF1j7iag-Cz",
        "colab_type": "code",
        "outputId": "5dd4082d-9603-4450-9e7f-c66f26dde78b",
        "colab": {
          "base_uri": "https://localhost:8080/",
          "height": 86
        }
      },
      "source": [
        "import numpy \n",
        "\n",
        "#fix random seed for reproducibility\n",
        "seed= 1234\n",
        "numpy.random.seed(seed)\n",
        "\n",
        "# load minit data\n",
        "(X_train, y_train),(X_test, y_test) = mnist.load_data()\n",
        "\n",
        "#printng shape of mnist train and test data\n",
        "print(X_train.shape)\n",
        "print(y_train.shape)\n",
        "print(X_test.shape)\n",
        "print(y_test.shape)"
      ],
      "execution_count": 0,
      "outputs": [
        {
          "output_type": "stream",
          "text": [
            "(60000, 28, 28)\n",
            "(60000,)\n",
            "(10000, 28, 28)\n",
            "(10000,)\n"
          ],
          "name": "stdout"
        }
      ]
    },
    {
      "cell_type": "code",
      "metadata": {
        "id": "sTLRJsRLhBVr",
        "colab_type": "code",
        "outputId": "3fa4cdcb-f382-44f2-fc6b-f390212d1aa6",
        "colab": {
          "base_uri": "https://localhost:8080/",
          "height": 208
        }
      },
      "source": [
        "# plot four images as gray scale\n",
        "plt.subplot(321)\n",
        "plt.imshow(X_train[0],cmap='gray')\n",
        "plt.subplot(322)\n",
        "plt.imshow(X_train[1],cmap='gray')\n",
        "plt.subplot(323)\n",
        "plt.imshow(X_train[2],cmap='gray')\n",
        "plt.subplot(324)\n",
        "plt.imshow(X_train[3],cmap='gray')"
      ],
      "execution_count": 0,
      "outputs": [
        {
          "output_type": "execute_result",
          "data": {
            "text/plain": [
              "<matplotlib.image.AxesImage at 0x7f3b16042390>"
            ]
          },
          "metadata": {
            "tags": []
          },
          "execution_count": 26
        },
        {
          "output_type": "display_data",
          "data": {
            "image/png": "[encoded data removed]",
            "text/plain": [
              "<Figure size 432x288 with 4 Axes>"
            ]
          },
          "metadata": {
            "tags": [],
            "needs_background": "light"
          }
        }
      ]
    },
    {
      "cell_type": "code",
      "metadata": {
        "id": "7gTJokSThKqJ",
        "colab_type": "code",
        "outputId": "d45984a8-c1aa-4117-e3cf-6d9242007559",
        "colab": {
          "base_uri": "https://localhost:8080/",
          "height": 34
        }
      },
      "source": [
        "'''\n",
        "CNN accepts a specific format when using tensorflow e.g.(batch, height, width, channels)\n",
        "As all the images are in grayscale, the number of channels is 1\n",
        "'''\n",
        "# reshape the data to four dimensions, due to the input of model\n",
        "# reshape to be [samples/batch][width][height][pixels/channels]\n",
        "X_train = X_train.reshape(X_train.shape[0], 28, 28, 1).astype('float32')\n",
        "X_test = X_test.reshape(X_test.shape[0], 28, 28, 1).astype('float32')\n",
        "\n",
        "'''\n",
        "rescaled the image data below so that each pixel lies in the interval [0, 1] instead of [0, 255].\n",
        "'''\n",
        "# Normalization\n",
        "#X_train /= 255.0\n",
        "#X_test /= 255.0\n",
        "#print(X_train[0])\n"
      ],
      "execution_count": 0,
      "outputs": [
        {
          "output_type": "execute_result",
          "data": {
            "text/plain": [
              "'\\nrescaled the image data below so that each pixel lies in the interval [0, 1] instead of [0, 255].\\n'"
            ]
          },
          "metadata": {
            "tags": []
          },
          "execution_count": 27
        }
      ]
    },
    {
      "cell_type": "code",
      "metadata": {
        "id": "t-53xPEEh5Gh",
        "colab_type": "code",
        "outputId": "de50ef66-a040-45e8-9d9b-801f63134193",
        "colab": {
          "base_uri": "https://localhost:8080/",
          "height": 52
        }
      },
      "source": [
        "'''\n",
        "encode the labels i.e. Y_train and Y_test. \n",
        "In one-hot encoding an integer is converted to an array which contains only \n",
        "one ‘1’ and the rest elements are ‘0’.\n",
        "'''\n",
        "# one-hot\n",
        "y_train = np_utils.to_categorical(y_train)\n",
        "y_test = np_utils.to_categorical(y_test)\n",
        "print(y_train.shape)\n",
        "print(y_test.shape)"
      ],
      "execution_count": 0,
      "outputs": [
        {
          "output_type": "stream",
          "text": [
            "(60000, 10)\n",
            "(10000, 10)\n"
          ],
          "name": "stdout"
        }
      ]
    },
    {
      "cell_type": "code",
      "metadata": {
        "id": "RMSwofxoh-d9",
        "colab_type": "code",
        "outputId": "efe4d10d-edc7-4dee-ca35-33ff309fbea5",
        "colab": {
          "base_uri": "https://localhost:8080/",
          "height": 920
        }
      },
      "source": [
        "\n",
        "# parameters\n",
        "# num_classes = y_test.shape[1]\n",
        "# input_img = Input(shape=(224,224,3))\n",
        "\n",
        "# create model\n",
        "model = Sequential()\n",
        "\n",
        "# first block of conv2D, 64 filters, size of filters (3,3)\n",
        "model.add(Conv2D(64,(3,3), padding='same',activation='relu',input_shape=(28,28,1)))\n",
        "model.add(Conv2D(64,(3,3),padding='same',activation='relu'))\n",
        "model.add(MaxPool2D((2,2),padding='same'))\n",
        "\n",
        "# second block of conv2D\n",
        "model.add(Conv2D(128,(3,3),padding='same',activation='relu'))\n",
        "model.add(Conv2D(128,(3,3),padding='same',activation='relu'))\n",
        "model.add(MaxPool2D((2,2),padding= 'same'))\n",
        "\n",
        "# third block of conv2D\n",
        "model.add(Conv2D(256,(3,3),padding='same',activation='relu'))\n",
        "model.add(Conv2D(256,(3,3),padding='same',activation='relu'))\n",
        "model.add(Conv2D(256,(3,3),padding='same',activation='relu'))\n",
        "model.add(MaxPool2D((2,2),padding='same'))\n",
        "\n",
        "# fouth block of conv2D\n",
        "model.add(Conv2D(512,(3,3),padding='same',activation='relu'))\n",
        "model.add(Conv2D(512,(3,3),padding='same',activation='relu'))\n",
        "model.add(Conv2D(512,(3,3),padding='same',activation='relu'))\n",
        "model.add(MaxPool2D((2,2),padding='same'))\n",
        "\n",
        "# fifth block of conv2D\n",
        "model.add(Conv2D(512,(3,3),padding='same',activation='relu'))\n",
        "model.add(Conv2D(512,(3,3),padding='same',activation='relu'))\n",
        "model.add(Conv2D(512,(3,3),padding='same',activation='relu'))\n",
        "model.add(MaxPool2D((2,2),padding='same'))\n",
        "\n",
        "# Dense layer\n",
        "model.add(Flatten())\n",
        "model.add(Dense(4096, activation='relu'))\n",
        "model.add(Dense(4096, activation='relu'))\n",
        "model.add(Dense(10, activation='softmax'))\n",
        "model.summary()"
      ],
      "execution_count": 0,
      "outputs": [
        {
          "output_type": "stream",
          "text": [
            "Model: \"sequential_3\"\n",
            "_________________________________________________________________\n",
            "Layer (type)                 Output Shape              Param #   \n",
            "=================================================================\n",
            "conv2d_39 (Conv2D)           (None, 28, 28, 64)        640       \n",
            "_________________________________________________________________\n",
            "conv2d_40 (Conv2D)           (None, 28, 28, 64)        36928     \n",
            "_________________________________________________________________\n",
            "max_pooling2d_15 (MaxPooling (None, 14, 14, 64)        0         \n",
            "_________________________________________________________________\n",
            "conv2d_41 (Conv2D)           (None, 14, 14, 128)       73856     \n",
            "_________________________________________________________________\n",
            "conv2d_42 (Conv2D)           (None, 14, 14, 128)       147584    \n",
            "_________________________________________________________________\n",
            "max_pooling2d_16 (MaxPooling (None, 7, 7, 128)         0         \n",
            "_________________________________________________________________\n",
            "conv2d_43 (Conv2D)           (None, 7, 7, 256)         295168    \n",
            "_________________________________________________________________\n",
            "conv2d_44 (Conv2D)           (None, 7, 7, 256)         590080    \n",
            "_________________________________________________________________\n",
            "conv2d_45 (Conv2D)           (None, 7, 7, 256)         590080    \n",
            "_________________________________________________________________\n",
            "max_pooling2d_17 (MaxPooling (None, 4, 4, 256)         0         \n",
            "_________________________________________________________________\n",
            "conv2d_46 (Conv2D)           (None, 4, 4, 512)         1180160   \n",
            "_________________________________________________________________\n",
            "conv2d_47 (Conv2D)           (None, 4, 4, 512)         2359808   \n",
            "_________________________________________________________________\n",
            "conv2d_48 (Conv2D)           (None, 4, 4, 512)         2359808   \n",
            "_________________________________________________________________\n",
            "max_pooling2d_18 (MaxPooling (None, 2, 2, 512)         0         \n",
            "_________________________________________________________________\n",
            "conv2d_49 (Conv2D)           (None, 2, 2, 512)         2359808   \n",
            "_________________________________________________________________\n",
            "conv2d_50 (Conv2D)           (None, 2, 2, 512)         2359808   \n",
            "_________________________________________________________________\n",
            "conv2d_51 (Conv2D)           (None, 2, 2, 512)         2359808   \n",
            "_________________________________________________________________\n",
            "max_pooling2d_19 (MaxPooling (None, 1, 1, 512)         0         \n",
            "_________________________________________________________________\n",
            "flatten_3 (Flatten)          (None, 512)               0         \n",
            "_________________________________________________________________\n",
            "dense_9 (Dense)              (None, 4096)              2101248   \n",
            "_________________________________________________________________\n",
            "dense_10 (Dense)             (None, 4096)              16781312  \n",
            "_________________________________________________________________\n",
            "dense_11 (Dense)             (None, 10)                40970     \n",
            "=================================================================\n",
            "Total params: 33,637,066\n",
            "Trainable params: 33,637,066\n",
            "Non-trainable params: 0\n",
            "_________________________________________________________________\n"
          ],
          "name": "stdout"
        }
      ]
    },
    {
      "cell_type": "code",
      "metadata": {
        "id": "C53shrYm4xxR",
        "colab_type": "code",
        "colab": {}
      },
      "source": [
        "from tensorflow.keras import optimizers\n",
        "\n",
        "sgd = optimizers.SGD(lr=0.01, decay=1e-6, momentum=0.9, nesterov=True)\n",
        "\n",
        "model.compile(optimizer=sgd, loss='categorical_crossentropy', metrics=['accuracy'])"
      ],
      "execution_count": 0,
      "outputs": []
    },
    {
      "cell_type": "code",
      "metadata": {
        "id": "MIjmCHPbjIJ1",
        "colab_type": "code",
        "colab": {}
      },
      "source": [
        "#plot_model(model, to_file='vgg_model_plot.png', show_shapes=True, show_layer_names=True)"
      ],
      "execution_count": 0,
      "outputs": []
    },
    {
      "cell_type": "code",
      "metadata": {
        "id": "YpbrgSOCjPqw",
        "colab_type": "code",
        "outputId": "5334f6c1-657b-4467-8c09-439e92fc9b23",
        "colab": {
          "base_uri": "https://localhost:8080/",
          "height": 211
        }
      },
      "source": [
        "# Fit the model\n",
        "history = model.fit(X_train, y_train, validation_data=(X_test, y_test), epochs=5, batch_size = 255) # verbose=2"
      ],
      "execution_count": 0,
      "outputs": [
        {
          "output_type": "stream",
          "text": [
            "Epoch 1/5\n",
            "236/236 [==============================] - 14s 61ms/step - loss: 1.3141 - accuracy: 0.5489 - val_loss: 0.0825 - val_accuracy: 0.9744\n",
            "Epoch 2/5\n",
            "236/236 [==============================] - 14s 60ms/step - loss: 0.0753 - accuracy: 0.9775 - val_loss: 0.0363 - val_accuracy: 0.9896\n",
            "Epoch 3/5\n",
            "236/236 [==============================] - 14s 60ms/step - loss: 0.0415 - accuracy: 0.9878 - val_loss: 0.0446 - val_accuracy: 0.9866\n",
            "Epoch 4/5\n",
            "236/236 [==============================] - 14s 60ms/step - loss: 0.0283 - accuracy: 0.9915 - val_loss: 0.0302 - val_accuracy: 0.9903\n",
            "Epoch 5/5\n",
            "236/236 [==============================] - 14s 60ms/step - loss: 0.0206 - accuracy: 0.9937 - val_loss: 0.0265 - val_accuracy: 0.9915\n"
          ],
          "name": "stdout"
        }
      ]
    },
    {
      "cell_type": "markdown",
      "metadata": {
        "id": "Oz_LeuaI9hfW",
        "colab_type": "text"
      },
      "source": [
        "**Evalution**"
      ]
    },
    {
      "cell_type": "code",
      "metadata": {
        "id": "6YAGvOd_qZhb",
        "colab_type": "code",
        "colab": {}
      },
      "source": [
        "score = model.evaluate(X_test, y_test, verbose=0)"
      ],
      "execution_count": 0,
      "outputs": []
    },
    {
      "cell_type": "code",
      "metadata": {
        "id": "8wrwI5lU2glX",
        "colab_type": "code",
        "outputId": "23d8e550-abbf-4dca-c151-c06fc9698eff",
        "colab": {
          "base_uri": "https://localhost:8080/",
          "height": 34
        }
      },
      "source": [
        "print(\"Accuracy on test set: \",score[1])"
      ],
      "execution_count": 0,
      "outputs": [
        {
          "output_type": "stream",
          "text": [
            "Accuracy on test set:  0.9915000200271606\n"
          ],
          "name": "stdout"
        }
      ]
    },
    {
      "cell_type": "code",
      "metadata": {
        "id": "zc2YHWCr2jin",
        "colab_type": "code",
        "outputId": "32a91a09-cdad-486c-f82c-1444c0d44b38",
        "colab": {
          "base_uri": "https://localhost:8080/",
          "height": 295
        }
      },
      "source": [
        "plt.plot(history.history['accuracy'])\n",
        "plt.plot(history.history['val_accuracy'])\n",
        "plt.title('model accuracy')\n",
        "plt.ylabel('accuracy')\n",
        "plt.xlabel('epoch')\n",
        "plt.legend(['train', 'test'], loc='upper left')\n",
        "plt.show()"
      ],
      "execution_count": 0,
      "outputs": [
        {
          "output_type": "display_data",
          "data": {
            "image/png": "[encoded data removed]",
            "text/plain": [
              "<Figure size 432x288 with 1 Axes>"
            ]
          },
          "metadata": {
            "tags": [],
            "needs_background": "light"
          }
        }
      ]
    },
    {
      "cell_type": "code",
      "metadata": {
        "id": "B3bKy79n43ow",
        "colab_type": "code",
        "outputId": "25bb5fea-3915-4351-ff6a-69132f273045",
        "colab": {
          "base_uri": "https://localhost:8080/",
          "height": 295
        }
      },
      "source": [
        "plt.plot(history.history['loss'])\n",
        "plt.plot(history.history['val_loss'])\n",
        "plt.title('model loss')\n",
        "plt.ylabel('loss')\n",
        "plt.xlabel('epoch')\n",
        "plt.legend(['train', 'test'], loc='upper left')\n",
        "plt.show()"
      ],
      "execution_count": 0,
      "outputs": [
        {
          "output_type": "display_data",
          "data": {
            "image/png": "[encoded data removed]",
            "text/plain": [
              "<Figure size 432x288 with 1 Axes>"
            ]
          },
          "metadata": {
            "tags": [],
            "needs_background": "light"
          }
        }
      ]
    },
    {
      "cell_type": "code",
      "metadata": {
        "id": "zgv-53IYBenj",
        "colab_type": "code",
        "colab": {}
      },
      "source": [
        "model.save('VGGNet_Model.h5')"
      ],
      "execution_count": 0,
      "outputs": []
    },
    {
      "cell_type": "code",
      "metadata": {
        "id": "8zGITH7IBkjF",
        "colab_type": "code",
        "colab": {}
      },
      "source": [
        "img_width, img_height = 28, 28\n",
        "\n",
        "# load the model we saved\n",
        "model = load_model('VGGNet_Model.h5')\n",
        "model.compile(loss='binary_crossentropy',\n",
        "              optimizer='adam',\n",
        "              metrics=['accuracy'])"
      ],
      "execution_count": 0,
      "outputs": []
    }
  ]
}
{
  "nbformat": 4,
  "nbformat_minor": 0,
  "metadata": {
    "colab": {
      "name": "ResNET_20_mnist.ipynb",
      "provenance": []
    },
    "kernelspec": {
      "name": "python3",
      "display_name": "Python 3"
    },
    "accelerator": "GPU"
  },
  "cells": [
    {
      "cell_type": "code",
      "metadata": {
        "id": "A18ORfROX1gI",
        "colab_type": "code",
        "colab": {}
      },
      "source": [
        "%tensorflow_version 1.x"
      ],
      "execution_count": 0,
      "outputs": []
    },
    {
      "cell_type": "code",
      "metadata": {
        "id": "6ZOp6FXcJd__",
        "colab_type": "code",
        "colab": {}
      },
      "source": [
        "import tensorflow as tf\n",
        "from tensorflow.python import keras\n",
        "import numpy as np\n",
        "\n",
        "from tensorflow.keras.preprocessing.image import ImageDataGenerator\n",
        "from tensorflow.keras.models import Sequential\n",
        "from tensorflow.keras.layers import Conv2D, MaxPool2D\n",
        "from tensorflow.keras.layers import Activation, Flatten, Dense, Dropout, Input, BatchNormalization, Add, Dense, Activation, ZeroPadding2D, BatchNormalization, Flatten, Conv2D, AveragePooling2D, MaxPooling2D\n",
        "from tensorflow.keras.utils import plot_model\n",
        "\n",
        "from tensorflow.keras import backend as K\n",
        "from tensorflow.keras.models import load_model, Model\n",
        "from tensorflow.keras.datasets import mnist\n",
        "from tensorflow.python.keras.utils import np_utils\n",
        "import matplotlib.pyplot as plt\n",
        "\n",
        "\n",
        "from keras.regularizers import l2\n",
        "from keras.callbacks import LearningRateScheduler"
      ],
      "execution_count": 0,
      "outputs": []
    },
    {
      "cell_type": "code",
      "metadata": {
        "id": "6ErIvO8PJmuq",
        "colab_type": "code",
        "colab": {
          "base_uri": "https://localhost:8080/",
          "height": 123
        },
        "outputId": "2f60f295-9322-48f6-95d7-296fd9c69b80"
      },
      "source": [
        "import numpy \n",
        "\n",
        "#fix random seed for reproducibility\n",
        "seed= 1234\n",
        "numpy.random.seed(seed)\n",
        "\n",
        "# load minit data\n",
        "(X_train, y_train),(X_test, y_test) = mnist.load_data()\n",
        "\n",
        "#printng shape of mnist train and test data\n",
        "print(X_train.shape)\n",
        "print(y_train.shape)\n",
        "print(X_test.shape)\n",
        "print(y_test.shape)\n",
        "\n",
        "'''\n",
        "CNN accepts a specific format when using tensorflow e.g.(batch, height, width, channels)\n",
        "As all the images are in grayscale, the number of channels is 1\n",
        "'''\n",
        "# reshape the data to four dimensions, due to the input of model\n",
        "# reshape to be [samples/batch][width][height][pixels/channels]\n",
        "X_train = X_train.reshape(X_train.shape[0], 28, 28, 1).astype('float32')\n",
        "X_test = X_test.reshape(X_test.shape[0], 28, 28, 1).astype('float32')\n",
        "\n",
        "'''\n",
        "rescaled the image data below so that each pixel lies in the interval [0, 1] instead of [0, 255].\n",
        "'''\n",
        "# Normalization\n",
        "X_train /= 255.0\n",
        "X_test /= 255.0\n",
        "#print(X_train[0])\n",
        "\n",
        "'''\n",
        "encode the labels i.e. Y_train and Y_test. \n",
        "In one-hot encoding an integer is converted to an array which contains only \n",
        "one ‘1’ and the rest elements are ‘0’.\n",
        "'''\n",
        "# one-hot\n",
        "y_train = np_utils.to_categorical(y_train)\n",
        "y_test = np_utils.to_categorical(y_test)\n",
        "print('Shape of y-train(One-hot)', y_train.shape)\n",
        "print('Shape of y-test(One-hot)',y_test.shape)"
      ],
      "execution_count": 34,
      "outputs": [
        {
          "output_type": "stream",
          "text": [
            "(60000, 28, 28)\n",
            "(60000,)\n",
            "(10000, 28, 28)\n",
            "(10000,)\n",
            "Shape of y-train(One-hot) (60000, 10)\n",
            "Shape of y-test(One-hot) (10000, 10)\n"
          ],
          "name": "stdout"
        }
      ]
    },
    {
      "cell_type": "code",
      "metadata": {
        "id": "GOg6-TpQJ1IM",
        "colab_type": "code",
        "colab": {}
      },
      "source": [
        "# ResNet-20\n",
        "depth = 20\n",
        "\n",
        "# Number of Classes\n",
        "num_classes = 10\n",
        "\n",
        "def resnet_layer(inputs, num_filters=14, kernel_size=3, strides=1, activation='relu', batch_normalization=True, conv_first=True):\n",
        "    \"\"\"\n",
        "    2D convolution batch-normalization-activation stack builder\n",
        "    Arguments\n",
        "        inputs: input tensor from input image or prev layer\n",
        "        num_filters: conv2D number of filters\n",
        "        kernel_size: conv2D square kernel dimensions\n",
        "        strides: conv2D square stride dimensions\n",
        "        activation: activation name\n",
        "        batch_normalization: to include batch_normalization or not\n",
        "        conv_first: order of convolution\n",
        "    Returns\n",
        "        x: tensor as input to next layer\n",
        "    \"\"\"\n",
        "\n",
        "    conv = Conv2D(num_filters, kernel_size=kernel_size, strides=strides, padding='same', kernel_initializer='he_normal', kernel_regularizer=l2(1e-4))\n",
        "\n",
        "    x = inputs\n",
        "\n",
        "    if conv_first:\n",
        "        x = conv(x)\n",
        "        if batch_normalization:\n",
        "            x = BatchNormalization()(x)\n",
        "        if activation is not None:\n",
        "            x = Activation(activation)(x)\n",
        "    else:\n",
        "        if batch_normalization:\n",
        "            x = BatchNormalization()(x)\n",
        "        if activation is not None:\n",
        "            x = Activation(activation)(x)\n",
        "        x = conv(x)\n",
        "\n",
        "    return x\n",
        "\n",
        "def resnet_model(input_shape, depth, num_classes):\n",
        "    \"\"\"\n",
        "    resnet model builder\n",
        "    Arguments\n",
        "        input_shape: shape of the input image tensor\n",
        "        depth: number of core convolutional layers\n",
        "        num_classes: number of classes\n",
        "    Returns\n",
        "        model: Keras model instance\n",
        "    \"\"\"\n",
        "\n",
        "    num_filters = 14\n",
        "    num_res_blocks = int((depth - 2) / 9)\n",
        "\n",
        "    inputs = Input(shape=input_shape)\n",
        "    x = resnet_layer(inputs=inputs)\n",
        "\n",
        "    # instantiate the stack of residual units\n",
        "    for stack in range(3):\n",
        "        for res_block in range(num_res_blocks):\n",
        "            strides = 1\n",
        "            if stack > 0 and res_block == 0:  # for first layer but not first stack\n",
        "                strides = 2  # downsample\n",
        "            y = resnet_layer(inputs=x,\n",
        "                            num_filters=num_filters,\n",
        "                            strides=strides)\n",
        "            y = resnet_layer(inputs=y,\n",
        "                            num_filters=num_filters,\n",
        "                            activation=None)\n",
        "            if stack > 0 and res_block == 0:  # for first layer but not first stack\n",
        "                # linear projection residual shortcut connection to match changed dims\n",
        "                x = resnet_layer(inputs=x,\n",
        "                                num_filters=num_filters,\n",
        "                                kernel_size=1,\n",
        "                                strides=strides,\n",
        "                                activation=None,\n",
        "                                batch_normalization=False)\n",
        "            x = keras.layers.add([x, y])\n",
        "            x = Activation('relu')(x)\n",
        "        num_filters *= 2\n",
        "        \n",
        "        # add classifier on top\n",
        "    x = AveragePooling2D(pool_size=(2,2))(x)\n",
        "    y = Flatten()(x)\n",
        "    outputs = Dense(num_classes,\n",
        "                    activation='softmax',\n",
        "                    kernel_initializer='he_normal')(y)\n",
        "\n",
        "    # instantiate model\n",
        "    model = Model(inputs=inputs, outputs=outputs)\n",
        "\n",
        "    return model\n"
      ],
      "execution_count": 0,
      "outputs": []
    },
    {
      "cell_type": "code",
      "metadata": {
        "id": "ZqTVyHgDV-Nx",
        "colab_type": "code",
        "colab": {
          "base_uri": "https://localhost:8080/",
          "height": 1000
        },
        "outputId": "f0ab72f9-c2f8-4849-d2a9-11ef2df31da1"
      },
      "source": [
        "# input image dimensions\n",
        "input_shape = (28,28,1)\n",
        "\n",
        "model = resnet_model(input_shape=input_shape, depth=depth, num_classes=10)\n",
        "\n",
        "model.summary()\n"
      ],
      "execution_count": 36,
      "outputs": [
        {
          "output_type": "stream",
          "text": [
            "Model: \"model_1\"\n",
            "__________________________________________________________________________________________________\n",
            "Layer (type)                    Output Shape         Param #     Connected to                     \n",
            "==================================================================================================\n",
            "input_2 (InputLayer)            [(None, 28, 28, 1)]  0                                            \n",
            "__________________________________________________________________________________________________\n",
            "conv2d_15 (Conv2D)              (None, 28, 28, 14)   140         input_2[0][0]                    \n",
            "__________________________________________________________________________________________________\n",
            "batch_normalization_13 (BatchNo (None, 28, 28, 14)   56          conv2d_15[0][0]                  \n",
            "__________________________________________________________________________________________________\n",
            "activation_13 (Activation)      (None, 28, 28, 14)   0           batch_normalization_13[0][0]     \n",
            "__________________________________________________________________________________________________\n",
            "conv2d_16 (Conv2D)              (None, 28, 28, 14)   1778        activation_13[0][0]              \n",
            "__________________________________________________________________________________________________\n",
            "batch_normalization_14 (BatchNo (None, 28, 28, 14)   56          conv2d_16[0][0]                  \n",
            "__________________________________________________________________________________________________\n",
            "activation_14 (Activation)      (None, 28, 28, 14)   0           batch_normalization_14[0][0]     \n",
            "__________________________________________________________________________________________________\n",
            "conv2d_17 (Conv2D)              (None, 28, 28, 14)   1778        activation_14[0][0]              \n",
            "__________________________________________________________________________________________________\n",
            "batch_normalization_15 (BatchNo (None, 28, 28, 14)   56          conv2d_17[0][0]                  \n",
            "__________________________________________________________________________________________________\n",
            "add_6 (Add)                     (None, 28, 28, 14)   0           activation_13[0][0]              \n",
            "                                                                 batch_normalization_15[0][0]     \n",
            "__________________________________________________________________________________________________\n",
            "activation_15 (Activation)      (None, 28, 28, 14)   0           add_6[0][0]                      \n",
            "__________________________________________________________________________________________________\n",
            "conv2d_18 (Conv2D)              (None, 28, 28, 14)   1778        activation_15[0][0]              \n",
            "__________________________________________________________________________________________________\n",
            "batch_normalization_16 (BatchNo (None, 28, 28, 14)   56          conv2d_18[0][0]                  \n",
            "__________________________________________________________________________________________________\n",
            "activation_16 (Activation)      (None, 28, 28, 14)   0           batch_normalization_16[0][0]     \n",
            "__________________________________________________________________________________________________\n",
            "conv2d_19 (Conv2D)              (None, 28, 28, 14)   1778        activation_16[0][0]              \n",
            "__________________________________________________________________________________________________\n",
            "batch_normalization_17 (BatchNo (None, 28, 28, 14)   56          conv2d_19[0][0]                  \n",
            "__________________________________________________________________________________________________\n",
            "add_7 (Add)                     (None, 28, 28, 14)   0           activation_15[0][0]              \n",
            "                                                                 batch_normalization_17[0][0]     \n",
            "__________________________________________________________________________________________________\n",
            "activation_17 (Activation)      (None, 28, 28, 14)   0           add_7[0][0]                      \n",
            "__________________________________________________________________________________________________\n",
            "conv2d_20 (Conv2D)              (None, 14, 14, 28)   3556        activation_17[0][0]              \n",
            "__________________________________________________________________________________________________\n",
            "batch_normalization_18 (BatchNo (None, 14, 14, 28)   112         conv2d_20[0][0]                  \n",
            "__________________________________________________________________________________________________\n",
            "activation_18 (Activation)      (None, 14, 14, 28)   0           batch_normalization_18[0][0]     \n",
            "__________________________________________________________________________________________________\n",
            "conv2d_21 (Conv2D)              (None, 14, 14, 28)   7084        activation_18[0][0]              \n",
            "__________________________________________________________________________________________________\n",
            "conv2d_22 (Conv2D)              (None, 14, 14, 28)   420         activation_17[0][0]              \n",
            "__________________________________________________________________________________________________\n",
            "batch_normalization_19 (BatchNo (None, 14, 14, 28)   112         conv2d_21[0][0]                  \n",
            "__________________________________________________________________________________________________\n",
            "add_8 (Add)                     (None, 14, 14, 28)   0           conv2d_22[0][0]                  \n",
            "                                                                 batch_normalization_19[0][0]     \n",
            "__________________________________________________________________________________________________\n",
            "activation_19 (Activation)      (None, 14, 14, 28)   0           add_8[0][0]                      \n",
            "__________________________________________________________________________________________________\n",
            "conv2d_23 (Conv2D)              (None, 14, 14, 28)   7084        activation_19[0][0]              \n",
            "__________________________________________________________________________________________________\n",
            "batch_normalization_20 (BatchNo (None, 14, 14, 28)   112         conv2d_23[0][0]                  \n",
            "__________________________________________________________________________________________________\n",
            "activation_20 (Activation)      (None, 14, 14, 28)   0           batch_normalization_20[0][0]     \n",
            "__________________________________________________________________________________________________\n",
            "conv2d_24 (Conv2D)              (None, 14, 14, 28)   7084        activation_20[0][0]              \n",
            "__________________________________________________________________________________________________\n",
            "batch_normalization_21 (BatchNo (None, 14, 14, 28)   112         conv2d_24[0][0]                  \n",
            "__________________________________________________________________________________________________\n",
            "add_9 (Add)                     (None, 14, 14, 28)   0           activation_19[0][0]              \n",
            "                                                                 batch_normalization_21[0][0]     \n",
            "__________________________________________________________________________________________________\n",
            "activation_21 (Activation)      (None, 14, 14, 28)   0           add_9[0][0]                      \n",
            "__________________________________________________________________________________________________\n",
            "conv2d_25 (Conv2D)              (None, 7, 7, 56)     14168       activation_21[0][0]              \n",
            "__________________________________________________________________________________________________\n",
            "batch_normalization_22 (BatchNo (None, 7, 7, 56)     224         conv2d_25[0][0]                  \n",
            "__________________________________________________________________________________________________\n",
            "activation_22 (Activation)      (None, 7, 7, 56)     0           batch_normalization_22[0][0]     \n",
            "__________________________________________________________________________________________________\n",
            "conv2d_26 (Conv2D)              (None, 7, 7, 56)     28280       activation_22[0][0]              \n",
            "__________________________________________________________________________________________________\n",
            "conv2d_27 (Conv2D)              (None, 7, 7, 56)     1624        activation_21[0][0]              \n",
            "__________________________________________________________________________________________________\n",
            "batch_normalization_23 (BatchNo (None, 7, 7, 56)     224         conv2d_26[0][0]                  \n",
            "__________________________________________________________________________________________________\n",
            "add_10 (Add)                    (None, 7, 7, 56)     0           conv2d_27[0][0]                  \n",
            "                                                                 batch_normalization_23[0][0]     \n",
            "__________________________________________________________________________________________________\n",
            "activation_23 (Activation)      (None, 7, 7, 56)     0           add_10[0][0]                     \n",
            "__________________________________________________________________________________________________\n",
            "conv2d_28 (Conv2D)              (None, 7, 7, 56)     28280       activation_23[0][0]              \n",
            "__________________________________________________________________________________________________\n",
            "batch_normalization_24 (BatchNo (None, 7, 7, 56)     224         conv2d_28[0][0]                  \n",
            "__________________________________________________________________________________________________\n",
            "activation_24 (Activation)      (None, 7, 7, 56)     0           batch_normalization_24[0][0]     \n",
            "__________________________________________________________________________________________________\n",
            "conv2d_29 (Conv2D)              (None, 7, 7, 56)     28280       activation_24[0][0]              \n",
            "__________________________________________________________________________________________________\n",
            "batch_normalization_25 (BatchNo (None, 7, 7, 56)     224         conv2d_29[0][0]                  \n",
            "__________________________________________________________________________________________________\n",
            "add_11 (Add)                    (None, 7, 7, 56)     0           activation_23[0][0]              \n",
            "                                                                 batch_normalization_25[0][0]     \n",
            "__________________________________________________________________________________________________\n",
            "activation_25 (Activation)      (None, 7, 7, 56)     0           add_11[0][0]                     \n",
            "__________________________________________________________________________________________________\n",
            "average_pooling2d_1 (AveragePoo (None, 3, 3, 56)     0           activation_25[0][0]              \n",
            "__________________________________________________________________________________________________\n",
            "flatten_1 (Flatten)             (None, 504)          0           average_pooling2d_1[0][0]        \n",
            "__________________________________________________________________________________________________\n",
            "dense_1 (Dense)                 (None, 10)           5050        flatten_1[0][0]                  \n",
            "==================================================================================================\n",
            "Total params: 139,786\n",
            "Trainable params: 138,974\n",
            "Non-trainable params: 812\n",
            "__________________________________________________________________________________________________\n"
          ],
          "name": "stdout"
        }
      ]
    },
    {
      "cell_type": "code",
      "metadata": {
        "id": "-kKUt1V-Xxm1",
        "colab_type": "code",
        "colab": {}
      },
      "source": [
        ""
      ],
      "execution_count": 0,
      "outputs": []
    },
    {
      "cell_type": "code",
      "metadata": {
        "id": "eCF6sxvYWsf1",
        "colab_type": "code",
        "colab": {}
      },
      "source": [
        "#from tensorflow.python.keras.optimizers import Adam\n",
        "from tensorflow.keras import optimizers\n",
        "\n",
        "sgd = optimizers.SGD(lr=0.01, decay=1e-6, momentum=0.9, nesterov=True)\n",
        "\n",
        "model.compile(loss='categorical_crossentropy', optimizer=sgd, metrics=['accuracy']) #"
      ],
      "execution_count": 0,
      "outputs": []
    },
    {
      "cell_type": "code",
      "metadata": {
        "id": "jo7AEjHRX9Bt",
        "colab_type": "code",
        "colab": {
          "base_uri": "https://localhost:8080/",
          "height": 410
        },
        "outputId": "55386143-deec-4417-cbb6-2b3a5dc59a46"
      },
      "source": [
        "history = model.fit(X_train, y_train, validation_data=(X_test, y_test), epochs=10, batch_size=32, shuffle=True, ) #callbacks=[learn_rate_scheduler]"
      ],
      "execution_count": 38,
      "outputs": [
        {
          "output_type": "stream",
          "text": [
            "Train on 60000 samples, validate on 10000 samples\n",
            "Epoch 1/10\n",
            "60000/60000 [==============================] - 19s 319us/sample - loss: 0.2189 - acc: 0.9653 - val_loss: 0.1478 - val_acc: 0.9823\n",
            "Epoch 2/10\n",
            "60000/60000 [==============================] - 18s 295us/sample - loss: 0.1278 - acc: 0.9884 - val_loss: 0.1277 - val_acc: 0.9876\n",
            "Epoch 3/10\n",
            "60000/60000 [==============================] - 18s 294us/sample - loss: 0.1101 - acc: 0.9929 - val_loss: 0.1271 - val_acc: 0.9856\n",
            "Epoch 4/10\n",
            "60000/60000 [==============================] - 18s 297us/sample - loss: 0.0997 - acc: 0.9939 - val_loss: 0.1177 - val_acc: 0.9867\n",
            "Epoch 5/10\n",
            "60000/60000 [==============================] - 18s 295us/sample - loss: 0.0884 - acc: 0.9963 - val_loss: 0.1033 - val_acc: 0.9911\n",
            "Epoch 6/10\n",
            "60000/60000 [==============================] - 18s 298us/sample - loss: 0.0809 - acc: 0.9970 - val_loss: 0.0941 - val_acc: 0.9926\n",
            "Epoch 7/10\n",
            "60000/60000 [==============================] - 18s 301us/sample - loss: 0.0758 - acc: 0.9971 - val_loss: 0.1120 - val_acc: 0.9865\n",
            "Epoch 8/10\n",
            "60000/60000 [==============================] - 18s 296us/sample - loss: 0.0698 - acc: 0.9979 - val_loss: 0.0816 - val_acc: 0.9942\n",
            "Epoch 9/10\n",
            "60000/60000 [==============================] - 18s 295us/sample - loss: 0.0642 - acc: 0.9987 - val_loss: 0.0863 - val_acc: 0.9914\n",
            "Epoch 10/10\n",
            "60000/60000 [==============================] - 18s 296us/sample - loss: 0.0595 - acc: 0.9990 - val_loss: 0.0762 - val_acc: 0.9925\n"
          ],
          "name": "stdout"
        }
      ]
    },
    {
      "cell_type": "code",
      "metadata": {
        "id": "oXQKLkJZadRx",
        "colab_type": "code",
        "colab": {}
      },
      "source": [
        "score = model.evaluate(X_test, y_test, verbose=0)"
      ],
      "execution_count": 0,
      "outputs": []
    },
    {
      "cell_type": "code",
      "metadata": {
        "id": "fugzTVnKbkdJ",
        "colab_type": "code",
        "colab": {
          "base_uri": "https://localhost:8080/",
          "height": 34
        },
        "outputId": "8c608ff6-9fab-40a7-de29-53f3c0dd1ea0"
      },
      "source": [
        "print(\"Accuracy on test set: \",score[1])"
      ],
      "execution_count": 40,
      "outputs": [
        {
          "output_type": "stream",
          "text": [
            "Accuracy on test set:  0.9925\n"
          ],
          "name": "stdout"
        }
      ]
    },
    {
      "cell_type": "code",
      "metadata": {
        "id": "WpKHN7rDhY4F",
        "colab_type": "code",
        "colab": {
          "base_uri": "https://localhost:8080/",
          "height": 34
        },
        "outputId": "de7edc3e-68be-42f0-86fd-99299dc8cd67"
      },
      "source": [
        "model.metrics_names\n"
      ],
      "execution_count": 41,
      "outputs": [
        {
          "output_type": "execute_result",
          "data": {
            "text/plain": [
              "['loss', 'acc']"
            ]
          },
          "metadata": {
            "tags": []
          },
          "execution_count": 41
        }
      ]
    },
    {
      "cell_type": "code",
      "metadata": {
        "id": "y2txowoLboBQ",
        "colab_type": "code",
        "colab": {
          "base_uri": "https://localhost:8080/",
          "height": 294
        },
        "outputId": "57db6dee-6faa-4ab5-b9b2-603d7e0eeed1"
      },
      "source": [
        "plt.plot(history.history['acc'])\n",
        "plt.plot(history.history['val_acc'])\n",
        "plt.title('model accuracy')\n",
        "plt.ylabel('accuracy')\n",
        "plt.xlabel('epoch')\n",
        "plt.legend(['train', 'test'], loc='upper left')\n",
        "plt.show()"
      ],
      "execution_count": 42,
      "outputs": [
        {
          "output_type": "display_data",
          "data": {
            "image/png": "[encoded data removed]",
            "text/plain": [
              "<Figure size 432x288 with 1 Axes>"
            ]
          },
          "metadata": {
            "tags": [],
            "needs_background": "light"
          }
        }
      ]
    },
    {
      "cell_type": "code",
      "metadata": {
        "id": "Se08vO-LhoyM",
        "colab_type": "code",
        "colab": {
          "base_uri": "https://localhost:8080/",
          "height": 294
        },
        "outputId": "b56fd5a3-05ce-40c1-805d-75f9eec62c95"
      },
      "source": [
        "plt.plot(history.history['loss'])\n",
        "plt.plot(history.history['val_loss'])\n",
        "plt.title('model loss')\n",
        "plt.ylabel('loss')\n",
        "plt.xlabel('epoch')\n",
        "plt.legend(['train', 'test'], loc='upper left')\n",
        "plt.show()"
      ],
      "execution_count": 43,
      "outputs": [
        {
          "output_type": "display_data",
          "data": {
            "image/png": "[encoded data removed]",
            "text/plain": [
              "<Figure size 432x288 with 1 Axes>"
            ]
          },
          "metadata": {
            "tags": [],
            "needs_background": "light"
          }
        }
      ]
    }
  ]
}